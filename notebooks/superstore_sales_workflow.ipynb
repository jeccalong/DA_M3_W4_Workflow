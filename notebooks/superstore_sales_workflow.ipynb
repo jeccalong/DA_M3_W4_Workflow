{
  "cells": [
    {
      "cell_type": "markdown",
      "metadata": {},
      "source": [
        "# Superstore Sales Workflow Tutorial\n",
        "\n",
        "This notebook walks through cleaning the Superstore dataset, designing a relational structure, creating an SQLite database, and running example SQL queries and visualizations."
      ]
    },
    {
      "cell_type": "code",
      "execution_count": 1,
      "metadata": {},
      "outputs": [],
      "source": [
        "import pandas as pd\n",
        "import sqlite3\n",
        "import matplotlib.pyplot as plt\n",
        "import seaborn as sns\n",
        "import matplotlib.ticker as mticker\n"
      ]
    },
    {
      "cell_type": "markdown",
      "metadata": {},
      "source": [
        "## 1️) Load and Inspect the Dataset"
      ]
    },
    {
      "cell_type": "code",
      "execution_count": 2,
      "metadata": {},
      "outputs": [
        {
          "data": {
            "text/html": [
              "<div>\n",
              "<style scoped>\n",
              "    .dataframe tbody tr th:only-of-type {\n",
              "        vertical-align: middle;\n",
              "    }\n",
              "\n",
              "    .dataframe tbody tr th {\n",
              "        vertical-align: top;\n",
              "    }\n",
              "\n",
              "    .dataframe thead th {\n",
              "        text-align: right;\n",
              "    }\n",
              "</style>\n",
              "<table border=\"1\" class=\"dataframe\">\n",
              "  <thead>\n",
              "    <tr style=\"text-align: right;\">\n",
              "      <th></th>\n",
              "      <th>Row ID</th>\n",
              "      <th>Order ID</th>\n",
              "      <th>Order Date</th>\n",
              "      <th>Ship Date</th>\n",
              "      <th>Ship Mode</th>\n",
              "      <th>Customer ID</th>\n",
              "      <th>Customer Name</th>\n",
              "      <th>Segment</th>\n",
              "      <th>Country</th>\n",
              "      <th>City</th>\n",
              "      <th>...</th>\n",
              "      <th>Postal Code</th>\n",
              "      <th>Region</th>\n",
              "      <th>Product ID</th>\n",
              "      <th>Category</th>\n",
              "      <th>Sub-Category</th>\n",
              "      <th>Product Name</th>\n",
              "      <th>Sales</th>\n",
              "      <th>Quantity</th>\n",
              "      <th>Discount</th>\n",
              "      <th>Profit</th>\n",
              "    </tr>\n",
              "  </thead>\n",
              "  <tbody>\n",
              "    <tr>\n",
              "      <th>0</th>\n",
              "      <td>1</td>\n",
              "      <td>CA-2013-152156</td>\n",
              "      <td>09-11-2013</td>\n",
              "      <td>12-11-2013</td>\n",
              "      <td>Second Class</td>\n",
              "      <td>CG-12520</td>\n",
              "      <td>Claire Gute</td>\n",
              "      <td>Consumer</td>\n",
              "      <td>United States</td>\n",
              "      <td>Henderson</td>\n",
              "      <td>...</td>\n",
              "      <td>42420</td>\n",
              "      <td>South</td>\n",
              "      <td>FUR-BO-10001798</td>\n",
              "      <td>Furniture</td>\n",
              "      <td>Bookcases</td>\n",
              "      <td>Bush Somerset Collection Bookcase</td>\n",
              "      <td>261.9600</td>\n",
              "      <td>2</td>\n",
              "      <td>0.00</td>\n",
              "      <td>41.9136</td>\n",
              "    </tr>\n",
              "    <tr>\n",
              "      <th>1</th>\n",
              "      <td>2</td>\n",
              "      <td>CA-2013-152156</td>\n",
              "      <td>09-11-2013</td>\n",
              "      <td>12-11-2013</td>\n",
              "      <td>Second Class</td>\n",
              "      <td>CG-12520</td>\n",
              "      <td>Claire Gute</td>\n",
              "      <td>Consumer</td>\n",
              "      <td>United States</td>\n",
              "      <td>Henderson</td>\n",
              "      <td>...</td>\n",
              "      <td>42420</td>\n",
              "      <td>South</td>\n",
              "      <td>FUR-CH-10000454</td>\n",
              "      <td>Furniture</td>\n",
              "      <td>Chairs</td>\n",
              "      <td>Hon Deluxe Fabric Upholstered Stacking Chairs,...</td>\n",
              "      <td>731.9400</td>\n",
              "      <td>3</td>\n",
              "      <td>0.00</td>\n",
              "      <td>219.5820</td>\n",
              "    </tr>\n",
              "    <tr>\n",
              "      <th>2</th>\n",
              "      <td>3</td>\n",
              "      <td>CA-2013-138688</td>\n",
              "      <td>13-06-2013</td>\n",
              "      <td>17-06-2013</td>\n",
              "      <td>Second Class</td>\n",
              "      <td>DV-13045</td>\n",
              "      <td>Darrin Van Huff</td>\n",
              "      <td>Corporate</td>\n",
              "      <td>United States</td>\n",
              "      <td>Los Angeles</td>\n",
              "      <td>...</td>\n",
              "      <td>90036</td>\n",
              "      <td>West</td>\n",
              "      <td>OFF-LA-10000240</td>\n",
              "      <td>Office Supplies</td>\n",
              "      <td>Labels</td>\n",
              "      <td>Self-Adhesive Address Labels for Typewriters b...</td>\n",
              "      <td>14.6200</td>\n",
              "      <td>2</td>\n",
              "      <td>0.00</td>\n",
              "      <td>6.8714</td>\n",
              "    </tr>\n",
              "    <tr>\n",
              "      <th>3</th>\n",
              "      <td>4</td>\n",
              "      <td>US-2012-108966</td>\n",
              "      <td>11-10-2012</td>\n",
              "      <td>18-10-2012</td>\n",
              "      <td>Standard Class</td>\n",
              "      <td>SO-20335</td>\n",
              "      <td>Sean O'Donnell</td>\n",
              "      <td>Consumer</td>\n",
              "      <td>United States</td>\n",
              "      <td>Fort Lauderdale</td>\n",
              "      <td>...</td>\n",
              "      <td>33311</td>\n",
              "      <td>South</td>\n",
              "      <td>FUR-TA-10000577</td>\n",
              "      <td>Furniture</td>\n",
              "      <td>Tables</td>\n",
              "      <td>Bretford CR4500 Series Slim Rectangular Table</td>\n",
              "      <td>957.5775</td>\n",
              "      <td>5</td>\n",
              "      <td>0.45</td>\n",
              "      <td>-383.0310</td>\n",
              "    </tr>\n",
              "    <tr>\n",
              "      <th>4</th>\n",
              "      <td>5</td>\n",
              "      <td>US-2012-108966</td>\n",
              "      <td>11-10-2012</td>\n",
              "      <td>18-10-2012</td>\n",
              "      <td>Standard Class</td>\n",
              "      <td>SO-20335</td>\n",
              "      <td>Sean O'Donnell</td>\n",
              "      <td>Consumer</td>\n",
              "      <td>United States</td>\n",
              "      <td>Fort Lauderdale</td>\n",
              "      <td>...</td>\n",
              "      <td>33311</td>\n",
              "      <td>South</td>\n",
              "      <td>OFF-ST-10000760</td>\n",
              "      <td>Office Supplies</td>\n",
              "      <td>Storage</td>\n",
              "      <td>Eldon Fold 'N Roll Cart System</td>\n",
              "      <td>22.3680</td>\n",
              "      <td>2</td>\n",
              "      <td>0.20</td>\n",
              "      <td>2.5164</td>\n",
              "    </tr>\n",
              "  </tbody>\n",
              "</table>\n",
              "<p>5 rows × 21 columns</p>\n",
              "</div>"
            ],
            "text/plain": [
              "   Row ID        Order ID  Order Date   Ship Date       Ship Mode Customer ID  \\\n",
              "0       1  CA-2013-152156  09-11-2013  12-11-2013    Second Class    CG-12520   \n",
              "1       2  CA-2013-152156  09-11-2013  12-11-2013    Second Class    CG-12520   \n",
              "2       3  CA-2013-138688  13-06-2013  17-06-2013    Second Class    DV-13045   \n",
              "3       4  US-2012-108966  11-10-2012  18-10-2012  Standard Class    SO-20335   \n",
              "4       5  US-2012-108966  11-10-2012  18-10-2012  Standard Class    SO-20335   \n",
              "\n",
              "     Customer Name    Segment        Country             City  ...  \\\n",
              "0      Claire Gute   Consumer  United States        Henderson  ...   \n",
              "1      Claire Gute   Consumer  United States        Henderson  ...   \n",
              "2  Darrin Van Huff  Corporate  United States      Los Angeles  ...   \n",
              "3   Sean O'Donnell   Consumer  United States  Fort Lauderdale  ...   \n",
              "4   Sean O'Donnell   Consumer  United States  Fort Lauderdale  ...   \n",
              "\n",
              "  Postal Code  Region       Product ID         Category Sub-Category  \\\n",
              "0       42420   South  FUR-BO-10001798        Furniture    Bookcases   \n",
              "1       42420   South  FUR-CH-10000454        Furniture       Chairs   \n",
              "2       90036    West  OFF-LA-10000240  Office Supplies       Labels   \n",
              "3       33311   South  FUR-TA-10000577        Furniture       Tables   \n",
              "4       33311   South  OFF-ST-10000760  Office Supplies      Storage   \n",
              "\n",
              "                                        Product Name     Sales  Quantity  \\\n",
              "0                  Bush Somerset Collection Bookcase  261.9600         2   \n",
              "1  Hon Deluxe Fabric Upholstered Stacking Chairs,...  731.9400         3   \n",
              "2  Self-Adhesive Address Labels for Typewriters b...   14.6200         2   \n",
              "3      Bretford CR4500 Series Slim Rectangular Table  957.5775         5   \n",
              "4                     Eldon Fold 'N Roll Cart System   22.3680         2   \n",
              "\n",
              "   Discount    Profit  \n",
              "0      0.00   41.9136  \n",
              "1      0.00  219.5820  \n",
              "2      0.00    6.8714  \n",
              "3      0.45 -383.0310  \n",
              "4      0.20    2.5164  \n",
              "\n",
              "[5 rows x 21 columns]"
            ]
          },
          "execution_count": 2,
          "metadata": {},
          "output_type": "execute_result"
        }
      ],
      "source": [
        "# reading error codes + research is how you can learn if there is different encoding, as seen below\n",
        "df = pd.read_csv('../data/Superstore.csv', encoding='ISO-8859-1')\n",
        "df.head()"
      ]
    },
    {
      "cell_type": "markdown",
      "id": "856cd0c4",
      "metadata": {},
      "source": [
        "### Double check some datatypes, and for nulls and duplicates:"
      ]
    },
    {
      "cell_type": "code",
      "execution_count": 3,
      "metadata": {},
      "outputs": [
        {
          "name": "stdout",
          "output_type": "stream",
          "text": [
            "<class 'pandas.core.frame.DataFrame'>\n",
            "RangeIndex: 9994 entries, 0 to 9993\n",
            "Data columns (total 21 columns):\n",
            " #   Column         Non-Null Count  Dtype  \n",
            "---  ------         --------------  -----  \n",
            " 0   Row ID         9994 non-null   int64  \n",
            " 1   Order ID       9994 non-null   object \n",
            " 2   Order Date     9994 non-null   object \n",
            " 3   Ship Date      9994 non-null   object \n",
            " 4   Ship Mode      9994 non-null   object \n",
            " 5   Customer ID    9994 non-null   object \n",
            " 6   Customer Name  9994 non-null   object \n",
            " 7   Segment        9994 non-null   object \n",
            " 8   Country        9994 non-null   object \n",
            " 9   City           9994 non-null   object \n",
            " 10  State          9994 non-null   object \n",
            " 11  Postal Code    9994 non-null   int64  \n",
            " 12  Region         9994 non-null   object \n",
            " 13  Product ID     9994 non-null   object \n",
            " 14  Category       9994 non-null   object \n",
            " 15  Sub-Category   9994 non-null   object \n",
            " 16  Product Name   9994 non-null   object \n",
            " 17  Sales          9994 non-null   float64\n",
            " 18  Quantity       9994 non-null   int64  \n",
            " 19  Discount       9994 non-null   float64\n",
            " 20  Profit         9994 non-null   float64\n",
            "dtypes: float64(3), int64(3), object(15)\n",
            "memory usage: 1.6+ MB\n"
          ]
        }
      ],
      "source": [
        "df.info()"
      ]
    },
    {
      "cell_type": "code",
      "execution_count": 4,
      "id": "d26cc872",
      "metadata": {},
      "outputs": [
        {
          "data": {
            "text/plain": [
              "np.int64(0)"
            ]
          },
          "execution_count": 4,
          "metadata": {},
          "output_type": "execute_result"
        }
      ],
      "source": [
        "df.duplicated().sum()"
      ]
    },
    {
      "cell_type": "code",
      "execution_count": 5,
      "id": "d8b6be96",
      "metadata": {},
      "outputs": [
        {
          "data": {
            "text/plain": [
              "Row ID           0\n",
              "Order ID         0\n",
              "Order Date       0\n",
              "Ship Date        0\n",
              "Ship Mode        0\n",
              "Customer ID      0\n",
              "Customer Name    0\n",
              "Segment          0\n",
              "Country          0\n",
              "City             0\n",
              "State            0\n",
              "Postal Code      0\n",
              "Region           0\n",
              "Product ID       0\n",
              "Category         0\n",
              "Sub-Category     0\n",
              "Product Name     0\n",
              "Sales            0\n",
              "Quantity         0\n",
              "Discount         0\n",
              "Profit           0\n",
              "dtype: int64"
            ]
          },
          "execution_count": 5,
          "metadata": {},
          "output_type": "execute_result"
        }
      ],
      "source": [
        "df.isnull().sum()"
      ]
    },
    {
      "cell_type": "markdown",
      "id": "15a520b3",
      "metadata": {},
      "source": [
        "This data is incredibly clean - we can see there are no null values and no duplicates. However, there are some dates that could be saved in a better format."
      ]
    },
    {
      "cell_type": "markdown",
      "metadata": {},
      "source": [
        "## 2) Data Cleaning"
      ]
    },
    {
      "cell_type": "code",
      "execution_count": 6,
      "metadata": {},
      "outputs": [],
      "source": [
        "df['Order Date'] = pd.to_datetime(df['Order Date'], dayfirst=True)\n",
        "df['Ship Date'] = pd.to_datetime(df['Ship Date'], dayfirst=True)"
      ]
    },
    {
      "cell_type": "code",
      "execution_count": 7,
      "id": "44108db3",
      "metadata": {},
      "outputs": [
        {
          "data": {
            "text/plain": [
              "Row ID                    int64\n",
              "Order ID                 object\n",
              "Order Date       datetime64[ns]\n",
              "Ship Date        datetime64[ns]\n",
              "Ship Mode                object\n",
              "Customer ID              object\n",
              "Customer Name            object\n",
              "Segment                  object\n",
              "Country                  object\n",
              "City                     object\n",
              "State                    object\n",
              "Postal Code               int64\n",
              "Region                   object\n",
              "Product ID               object\n",
              "Category                 object\n",
              "Sub-Category             object\n",
              "Product Name             object\n",
              "Sales                   float64\n",
              "Quantity                  int64\n",
              "Discount                float64\n",
              "Profit                  float64\n",
              "dtype: object"
            ]
          },
          "execution_count": 7,
          "metadata": {},
          "output_type": "execute_result"
        }
      ],
      "source": [
        "df.dtypes"
      ]
    },
    {
      "cell_type": "code",
      "execution_count": 8,
      "id": "8a7388c1",
      "metadata": {},
      "outputs": [
        {
          "data": {
            "text/plain": [
              "array(['Consumer', 'Corporate', 'Home Office'], dtype=object)"
            ]
          },
          "execution_count": 8,
          "metadata": {},
          "output_type": "execute_result"
        }
      ],
      "source": [
        "df.Segment.unique()"
      ]
    },
    {
      "cell_type": "code",
      "execution_count": 9,
      "id": "e0defb73",
      "metadata": {},
      "outputs": [
        {
          "data": {
            "text/html": [
              "<div>\n",
              "<style scoped>\n",
              "    .dataframe tbody tr th:only-of-type {\n",
              "        vertical-align: middle;\n",
              "    }\n",
              "\n",
              "    .dataframe tbody tr th {\n",
              "        vertical-align: top;\n",
              "    }\n",
              "\n",
              "    .dataframe thead th {\n",
              "        text-align: right;\n",
              "    }\n",
              "</style>\n",
              "<table border=\"1\" class=\"dataframe\">\n",
              "  <thead>\n",
              "    <tr style=\"text-align: right;\">\n",
              "      <th></th>\n",
              "      <th>Row ID</th>\n",
              "      <th>Order ID</th>\n",
              "      <th>Order Date</th>\n",
              "      <th>Ship Date</th>\n",
              "      <th>Ship Mode</th>\n",
              "      <th>Customer ID</th>\n",
              "      <th>Customer Name</th>\n",
              "      <th>customer_category</th>\n",
              "      <th>Country</th>\n",
              "      <th>City</th>\n",
              "      <th>...</th>\n",
              "      <th>Postal Code</th>\n",
              "      <th>Region</th>\n",
              "      <th>Product ID</th>\n",
              "      <th>Category</th>\n",
              "      <th>Sub-Category</th>\n",
              "      <th>Product Name</th>\n",
              "      <th>Sales</th>\n",
              "      <th>Quantity</th>\n",
              "      <th>Discount</th>\n",
              "      <th>Profit</th>\n",
              "    </tr>\n",
              "  </thead>\n",
              "  <tbody>\n",
              "    <tr>\n",
              "      <th>0</th>\n",
              "      <td>1</td>\n",
              "      <td>CA-2013-152156</td>\n",
              "      <td>2013-11-09</td>\n",
              "      <td>2013-11-12</td>\n",
              "      <td>Second Class</td>\n",
              "      <td>CG-12520</td>\n",
              "      <td>Claire Gute</td>\n",
              "      <td>Consumer</td>\n",
              "      <td>United States</td>\n",
              "      <td>Henderson</td>\n",
              "      <td>...</td>\n",
              "      <td>42420</td>\n",
              "      <td>South</td>\n",
              "      <td>FUR-BO-10001798</td>\n",
              "      <td>Furniture</td>\n",
              "      <td>Bookcases</td>\n",
              "      <td>Bush Somerset Collection Bookcase</td>\n",
              "      <td>261.9600</td>\n",
              "      <td>2</td>\n",
              "      <td>0.00</td>\n",
              "      <td>41.9136</td>\n",
              "    </tr>\n",
              "    <tr>\n",
              "      <th>1</th>\n",
              "      <td>2</td>\n",
              "      <td>CA-2013-152156</td>\n",
              "      <td>2013-11-09</td>\n",
              "      <td>2013-11-12</td>\n",
              "      <td>Second Class</td>\n",
              "      <td>CG-12520</td>\n",
              "      <td>Claire Gute</td>\n",
              "      <td>Consumer</td>\n",
              "      <td>United States</td>\n",
              "      <td>Henderson</td>\n",
              "      <td>...</td>\n",
              "      <td>42420</td>\n",
              "      <td>South</td>\n",
              "      <td>FUR-CH-10000454</td>\n",
              "      <td>Furniture</td>\n",
              "      <td>Chairs</td>\n",
              "      <td>Hon Deluxe Fabric Upholstered Stacking Chairs,...</td>\n",
              "      <td>731.9400</td>\n",
              "      <td>3</td>\n",
              "      <td>0.00</td>\n",
              "      <td>219.5820</td>\n",
              "    </tr>\n",
              "    <tr>\n",
              "      <th>2</th>\n",
              "      <td>3</td>\n",
              "      <td>CA-2013-138688</td>\n",
              "      <td>2013-06-13</td>\n",
              "      <td>2013-06-17</td>\n",
              "      <td>Second Class</td>\n",
              "      <td>DV-13045</td>\n",
              "      <td>Darrin Van Huff</td>\n",
              "      <td>Corporate</td>\n",
              "      <td>United States</td>\n",
              "      <td>Los Angeles</td>\n",
              "      <td>...</td>\n",
              "      <td>90036</td>\n",
              "      <td>West</td>\n",
              "      <td>OFF-LA-10000240</td>\n",
              "      <td>Office Supplies</td>\n",
              "      <td>Labels</td>\n",
              "      <td>Self-Adhesive Address Labels for Typewriters b...</td>\n",
              "      <td>14.6200</td>\n",
              "      <td>2</td>\n",
              "      <td>0.00</td>\n",
              "      <td>6.8714</td>\n",
              "    </tr>\n",
              "    <tr>\n",
              "      <th>3</th>\n",
              "      <td>4</td>\n",
              "      <td>US-2012-108966</td>\n",
              "      <td>2012-10-11</td>\n",
              "      <td>2012-10-18</td>\n",
              "      <td>Standard Class</td>\n",
              "      <td>SO-20335</td>\n",
              "      <td>Sean O'Donnell</td>\n",
              "      <td>Consumer</td>\n",
              "      <td>United States</td>\n",
              "      <td>Fort Lauderdale</td>\n",
              "      <td>...</td>\n",
              "      <td>33311</td>\n",
              "      <td>South</td>\n",
              "      <td>FUR-TA-10000577</td>\n",
              "      <td>Furniture</td>\n",
              "      <td>Tables</td>\n",
              "      <td>Bretford CR4500 Series Slim Rectangular Table</td>\n",
              "      <td>957.5775</td>\n",
              "      <td>5</td>\n",
              "      <td>0.45</td>\n",
              "      <td>-383.0310</td>\n",
              "    </tr>\n",
              "    <tr>\n",
              "      <th>4</th>\n",
              "      <td>5</td>\n",
              "      <td>US-2012-108966</td>\n",
              "      <td>2012-10-11</td>\n",
              "      <td>2012-10-18</td>\n",
              "      <td>Standard Class</td>\n",
              "      <td>SO-20335</td>\n",
              "      <td>Sean O'Donnell</td>\n",
              "      <td>Consumer</td>\n",
              "      <td>United States</td>\n",
              "      <td>Fort Lauderdale</td>\n",
              "      <td>...</td>\n",
              "      <td>33311</td>\n",
              "      <td>South</td>\n",
              "      <td>OFF-ST-10000760</td>\n",
              "      <td>Office Supplies</td>\n",
              "      <td>Storage</td>\n",
              "      <td>Eldon Fold 'N Roll Cart System</td>\n",
              "      <td>22.3680</td>\n",
              "      <td>2</td>\n",
              "      <td>0.20</td>\n",
              "      <td>2.5164</td>\n",
              "    </tr>\n",
              "  </tbody>\n",
              "</table>\n",
              "<p>5 rows × 21 columns</p>\n",
              "</div>"
            ],
            "text/plain": [
              "   Row ID        Order ID Order Date  Ship Date       Ship Mode Customer ID  \\\n",
              "0       1  CA-2013-152156 2013-11-09 2013-11-12    Second Class    CG-12520   \n",
              "1       2  CA-2013-152156 2013-11-09 2013-11-12    Second Class    CG-12520   \n",
              "2       3  CA-2013-138688 2013-06-13 2013-06-17    Second Class    DV-13045   \n",
              "3       4  US-2012-108966 2012-10-11 2012-10-18  Standard Class    SO-20335   \n",
              "4       5  US-2012-108966 2012-10-11 2012-10-18  Standard Class    SO-20335   \n",
              "\n",
              "     Customer Name customer_category        Country             City  ...  \\\n",
              "0      Claire Gute          Consumer  United States        Henderson  ...   \n",
              "1      Claire Gute          Consumer  United States        Henderson  ...   \n",
              "2  Darrin Van Huff         Corporate  United States      Los Angeles  ...   \n",
              "3   Sean O'Donnell          Consumer  United States  Fort Lauderdale  ...   \n",
              "4   Sean O'Donnell          Consumer  United States  Fort Lauderdale  ...   \n",
              "\n",
              "  Postal Code  Region       Product ID         Category Sub-Category  \\\n",
              "0       42420   South  FUR-BO-10001798        Furniture    Bookcases   \n",
              "1       42420   South  FUR-CH-10000454        Furniture       Chairs   \n",
              "2       90036    West  OFF-LA-10000240  Office Supplies       Labels   \n",
              "3       33311   South  FUR-TA-10000577        Furniture       Tables   \n",
              "4       33311   South  OFF-ST-10000760  Office Supplies      Storage   \n",
              "\n",
              "                                        Product Name     Sales  Quantity  \\\n",
              "0                  Bush Somerset Collection Bookcase  261.9600         2   \n",
              "1  Hon Deluxe Fabric Upholstered Stacking Chairs,...  731.9400         3   \n",
              "2  Self-Adhesive Address Labels for Typewriters b...   14.6200         2   \n",
              "3      Bretford CR4500 Series Slim Rectangular Table  957.5775         5   \n",
              "4                     Eldon Fold 'N Roll Cart System   22.3680         2   \n",
              "\n",
              "   Discount    Profit  \n",
              "0      0.00   41.9136  \n",
              "1      0.00  219.5820  \n",
              "2      0.00    6.8714  \n",
              "3      0.45 -383.0310  \n",
              "4      0.20    2.5164  \n",
              "\n",
              "[5 rows x 21 columns]"
            ]
          },
          "execution_count": 9,
          "metadata": {},
          "output_type": "execute_result"
        }
      ],
      "source": [
        "df.rename(columns={\"Segment\":\"customer_category\"}, inplace=True)\n",
        "df.head()"
      ]
    },
    {
      "cell_type": "markdown",
      "id": "efdd1bb7",
      "metadata": {},
      "source": [
        "With real data, it is very likely more cleaning and wrangling would be required. "
      ]
    },
    {
      "cell_type": "markdown",
      "metadata": {},
      "source": [
        "## 3) Build Relational Tables"
      ]
    },
    {
      "cell_type": "code",
      "execution_count": 10,
      "metadata": {},
      "outputs": [],
      "source": [
        "conn = sqlite3.connect('../data/superstore.db')\n",
        "\n",
        "customers_df = df[['Customer ID','Customer Name','customer_category','City','State','Region']].drop_duplicates().rename(columns={\n",
        "    'Customer ID':'customer_id',\n",
        "    'Customer Name':'customer_name',\n",
        "    'City':'city',\n",
        "    'State':'state',\n",
        "    'Region':'region',\n",
        "    'Postal Code': 'postal_code'\n",
        "})\n",
        "\n",
        "products_df = df[['Product ID','Category','Sub-Category','Product Name']].drop_duplicates().rename(columns={\n",
        "    'Product ID':'product_id',\n",
        "    'Category':'category',\n",
        "    'Sub-Category':'subcategory',\n",
        "    'Product Name':'product_name'\n",
        "})\n",
        "\n",
        "orders_df = df[['Order ID','Order Date','Ship Date','Ship Mode','Customer ID']].drop_duplicates().rename(columns={\n",
        "    'Order ID':'order_id',\n",
        "    'Order Date':'order_date',\n",
        "    'Ship Date':'ship_date',\n",
        "    'Ship Mode':'ship_mode',\n",
        "    'Customer ID':'customer_id'\n",
        "})\n",
        "\n",
        "order_details_df = df[['Order ID','Product ID','Sales','Quantity','Discount','Profit']].rename(columns={\n",
        "    'Order ID':'order_id',\n",
        "    'Product ID':'product_id'\n",
        "})\n",
        "\n",
        "customers_df.to_sql('customers', conn, index=False, if_exists='replace')\n",
        "products_df.to_sql('products', conn, index=False, if_exists='replace')\n",
        "orders_df.to_sql('orders', conn, index=False, if_exists='replace')\n",
        "order_details_df.to_sql('order_details', conn, index=False, if_exists='replace')\n",
        "conn.commit()"
      ]
    },
    {
      "cell_type": "markdown",
      "metadata": {},
      "source": [
        "## 4) Make Some Queries!"
      ]
    },
    {
      "cell_type": "markdown",
      "id": "9c43f98a",
      "metadata": {},
      "source": [
        "### Which customer segments bring in the most revenue and profit?"
      ]
    },
    {
      "cell_type": "code",
      "execution_count": 13,
      "id": "642cb2ff",
      "metadata": {},
      "outputs": [
        {
          "data": {
            "text/html": [
              "<div>\n",
              "<style scoped>\n",
              "    .dataframe tbody tr th:only-of-type {\n",
              "        vertical-align: middle;\n",
              "    }\n",
              "\n",
              "    .dataframe tbody tr th {\n",
              "        vertical-align: top;\n",
              "    }\n",
              "\n",
              "    .dataframe thead th {\n",
              "        text-align: right;\n",
              "    }\n",
              "</style>\n",
              "<table border=\"1\" class=\"dataframe\">\n",
              "  <thead>\n",
              "    <tr style=\"text-align: right;\">\n",
              "      <th></th>\n",
              "      <th>customer_category</th>\n",
              "      <th>total_sales</th>\n",
              "      <th>total_profit</th>\n",
              "    </tr>\n",
              "  </thead>\n",
              "  <tbody>\n",
              "    <tr>\n",
              "      <th>0</th>\n",
              "      <td>Consumer</td>\n",
              "      <td>7954360.98</td>\n",
              "      <td>923657.52</td>\n",
              "    </tr>\n",
              "    <tr>\n",
              "      <th>1</th>\n",
              "      <td>Corporate</td>\n",
              "      <td>4768494.07</td>\n",
              "      <td>622614.73</td>\n",
              "    </tr>\n",
              "    <tr>\n",
              "      <th>2</th>\n",
              "      <td>Home Office</td>\n",
              "      <td>2808676.56</td>\n",
              "      <td>403920.45</td>\n",
              "    </tr>\n",
              "  </tbody>\n",
              "</table>\n",
              "</div>"
            ],
            "text/plain": [
              "  customer_category  total_sales  total_profit\n",
              "0          Consumer   7954360.98     923657.52\n",
              "1         Corporate   4768494.07     622614.73\n",
              "2       Home Office   2808676.56     403920.45"
            ]
          },
          "execution_count": 13,
          "metadata": {},
          "output_type": "execute_result"
        }
      ],
      "source": [
        "query1 = \"\"\" SELECT \n",
        "    c.customer_category,\n",
        "    ROUND(SUM(od.sales), 2) AS total_sales,\n",
        "    ROUND(SUM(od.profit), 2) AS total_profit\n",
        "FROM order_details od\n",
        "JOIN orders o ON od.order_id = o.order_id\n",
        "JOIN customers c ON o.customer_id = c.customer_id\n",
        "GROUP BY c.customer_category\n",
        "ORDER BY total_sales DESC;\n",
        "\"\"\"\n",
        "result1 = pd.read_sql(query1, conn)\n",
        "result1"
      ]
    },
    {
      "cell_type": "markdown",
      "id": "345a6a86",
      "metadata": {},
      "source": [
        "### What are the top 10 customers by total sales?"
      ]
    },
    {
      "cell_type": "code",
      "execution_count": 18,
      "id": "73c52cc2",
      "metadata": {},
      "outputs": [
        {
          "data": {
            "text/html": [
              "<div>\n",
              "<style scoped>\n",
              "    .dataframe tbody tr th:only-of-type {\n",
              "        vertical-align: middle;\n",
              "    }\n",
              "\n",
              "    .dataframe tbody tr th {\n",
              "        vertical-align: top;\n",
              "    }\n",
              "\n",
              "    .dataframe thead th {\n",
              "        text-align: right;\n",
              "    }\n",
              "</style>\n",
              "<table border=\"1\" class=\"dataframe\">\n",
              "  <thead>\n",
              "    <tr style=\"text-align: right;\">\n",
              "      <th></th>\n",
              "      <th>customer_name</th>\n",
              "      <th>total_sales</th>\n",
              "    </tr>\n",
              "  </thead>\n",
              "  <tbody>\n",
              "    <tr>\n",
              "      <th>0</th>\n",
              "      <td>Ken Lonsdale</td>\n",
              "      <td>141752.290</td>\n",
              "    </tr>\n",
              "    <tr>\n",
              "      <th>1</th>\n",
              "      <td>Sanjit Engle</td>\n",
              "      <td>134303.818</td>\n",
              "    </tr>\n",
              "    <tr>\n",
              "      <th>2</th>\n",
              "      <td>Adrian Barton</td>\n",
              "      <td>130262.139</td>\n",
              "    </tr>\n",
              "    <tr>\n",
              "      <th>3</th>\n",
              "      <td>Sean Miller</td>\n",
              "      <td>125215.250</td>\n",
              "    </tr>\n",
              "    <tr>\n",
              "      <th>4</th>\n",
              "      <td>Clay Ludtke</td>\n",
              "      <td>119686.006</td>\n",
              "    </tr>\n",
              "    <tr>\n",
              "      <th>5</th>\n",
              "      <td>Sanjit Chand</td>\n",
              "      <td>113138.672</td>\n",
              "    </tr>\n",
              "    <tr>\n",
              "      <th>6</th>\n",
              "      <td>Seth Vernon</td>\n",
              "      <td>103238.550</td>\n",
              "    </tr>\n",
              "    <tr>\n",
              "      <th>7</th>\n",
              "      <td>Zuschuss Carroll</td>\n",
              "      <td>96308.484</td>\n",
              "    </tr>\n",
              "    <tr>\n",
              "      <th>8</th>\n",
              "      <td>Maria Etezadi</td>\n",
              "      <td>95973.552</td>\n",
              "    </tr>\n",
              "    <tr>\n",
              "      <th>9</th>\n",
              "      <td>Laura Armstrong</td>\n",
              "      <td>95405.442</td>\n",
              "    </tr>\n",
              "  </tbody>\n",
              "</table>\n",
              "</div>"
            ],
            "text/plain": [
              "      customer_name  total_sales\n",
              "0      Ken Lonsdale   141752.290\n",
              "1      Sanjit Engle   134303.818\n",
              "2     Adrian Barton   130262.139\n",
              "3       Sean Miller   125215.250\n",
              "4       Clay Ludtke   119686.006\n",
              "5      Sanjit Chand   113138.672\n",
              "6       Seth Vernon   103238.550\n",
              "7  Zuschuss Carroll    96308.484\n",
              "8     Maria Etezadi    95973.552\n",
              "9   Laura Armstrong    95405.442"
            ]
          },
          "execution_count": 18,
          "metadata": {},
          "output_type": "execute_result"
        }
      ],
      "source": [
        "query2 = \"\"\" SELECT\n",
        "    c.customer_name, SUM(od.sales) as total_sales\n",
        "FROM customers as c\n",
        "JOIN orders as o ON c.customer_id = o.customer_id\n",
        "JOIN order_details as od ON o.order_id = od.order_id\n",
        "GROUP BY c.customer_name\n",
        "ORDER BY total_sales DESC\n",
        "LIMIT 10;\n",
        "\"\"\"\n",
        "result2 = pd.read_sql(query2, conn)\n",
        "result2"
      ]
    },
    {
      "cell_type": "markdown",
      "id": "4fb5c010",
      "metadata": {},
      "source": [
        "### Which product categories and subcategories are the most profitable overall?"
      ]
    },
    {
      "cell_type": "code",
      "execution_count": 20,
      "id": "b04efd3c",
      "metadata": {},
      "outputs": [
        {
          "data": {
            "text/html": [
              "<div>\n",
              "<style scoped>\n",
              "    .dataframe tbody tr th:only-of-type {\n",
              "        vertical-align: middle;\n",
              "    }\n",
              "\n",
              "    .dataframe tbody tr th {\n",
              "        vertical-align: top;\n",
              "    }\n",
              "\n",
              "    .dataframe thead th {\n",
              "        text-align: right;\n",
              "    }\n",
              "</style>\n",
              "<table border=\"1\" class=\"dataframe\">\n",
              "  <thead>\n",
              "    <tr style=\"text-align: right;\">\n",
              "      <th></th>\n",
              "      <th>category</th>\n",
              "      <th>total_profit</th>\n",
              "    </tr>\n",
              "  </thead>\n",
              "  <tbody>\n",
              "    <tr>\n",
              "      <th>0</th>\n",
              "      <td>Technology</td>\n",
              "      <td>153415.7018</td>\n",
              "    </tr>\n",
              "    <tr>\n",
              "      <th>1</th>\n",
              "      <td>Office Supplies</td>\n",
              "      <td>126113.3459</td>\n",
              "    </tr>\n",
              "    <tr>\n",
              "      <th>2</th>\n",
              "      <td>Furniture</td>\n",
              "      <td>20098.8892</td>\n",
              "    </tr>\n",
              "  </tbody>\n",
              "</table>\n",
              "</div>"
            ],
            "text/plain": [
              "          category  total_profit\n",
              "0       Technology   153415.7018\n",
              "1  Office Supplies   126113.3459\n",
              "2        Furniture    20098.8892"
            ]
          },
          "execution_count": 20,
          "metadata": {},
          "output_type": "execute_result"
        }
      ],
      "source": [
        "query3 = \"\"\" SELECT\n",
        "    p.category, sum(od.profit) as total_profit\n",
        "FROM products as p\n",
        "JOIN order_details as od on p.product_id = od.product_id\n",
        "GROUP BY p.category\n",
        "ORDER BY total_profit DESC \"\"\"\n",
        "result3 = pd.read_sql(query3, conn)\n",
        "result3"
      ]
    },
    {
      "cell_type": "markdown",
      "id": "b1d63547",
      "metadata": {},
      "source": [
        "### What is the average discount given per category?"
      ]
    },
    {
      "cell_type": "code",
      "execution_count": 22,
      "id": "08c9c82e",
      "metadata": {},
      "outputs": [
        {
          "data": {
            "text/html": [
              "<div>\n",
              "<style scoped>\n",
              "    .dataframe tbody tr th:only-of-type {\n",
              "        vertical-align: middle;\n",
              "    }\n",
              "\n",
              "    .dataframe tbody tr th {\n",
              "        vertical-align: top;\n",
              "    }\n",
              "\n",
              "    .dataframe thead th {\n",
              "        text-align: right;\n",
              "    }\n",
              "</style>\n",
              "<table border=\"1\" class=\"dataframe\">\n",
              "  <thead>\n",
              "    <tr style=\"text-align: right;\">\n",
              "      <th></th>\n",
              "      <th>category</th>\n",
              "      <th>average_discount</th>\n",
              "    </tr>\n",
              "  </thead>\n",
              "  <tbody>\n",
              "    <tr>\n",
              "      <th>0</th>\n",
              "      <td>Furniture</td>\n",
              "      <td>0.172514</td>\n",
              "    </tr>\n",
              "    <tr>\n",
              "      <th>1</th>\n",
              "      <td>Office Supplies</td>\n",
              "      <td>0.157000</td>\n",
              "    </tr>\n",
              "    <tr>\n",
              "      <th>2</th>\n",
              "      <td>Technology</td>\n",
              "      <td>0.132970</td>\n",
              "    </tr>\n",
              "  </tbody>\n",
              "</table>\n",
              "</div>"
            ],
            "text/plain": [
              "          category  average_discount\n",
              "0        Furniture          0.172514\n",
              "1  Office Supplies          0.157000\n",
              "2       Technology          0.132970"
            ]
          },
          "execution_count": 22,
          "metadata": {},
          "output_type": "execute_result"
        }
      ],
      "source": [
        "query4 = \"\"\" SELECT\n",
        "    p.category, AVG(od.discount) as average_discount\n",
        "FROM products as p\n",
        "JOIN order_details as od on p.product_id = od.product_id\n",
        "GROUP BY p.category\n",
        "ORDER BY average_discount DESC\"\"\"\n",
        "result4 = pd.read_sql(query4, conn)\n",
        "result4"
      ]
    },
    {
      "cell_type": "markdown",
      "id": "bb566a9c",
      "metadata": {},
      "source": [
        "### Which states or regions contribute the most to total sales?"
      ]
    },
    {
      "cell_type": "code",
      "execution_count": 23,
      "id": "1cc1c5c3",
      "metadata": {},
      "outputs": [
        {
          "data": {
            "text/html": [
              "<div>\n",
              "<style scoped>\n",
              "    .dataframe tbody tr th:only-of-type {\n",
              "        vertical-align: middle;\n",
              "    }\n",
              "\n",
              "    .dataframe tbody tr th {\n",
              "        vertical-align: top;\n",
              "    }\n",
              "\n",
              "    .dataframe thead th {\n",
              "        text-align: right;\n",
              "    }\n",
              "</style>\n",
              "<table border=\"1\" class=\"dataframe\">\n",
              "  <thead>\n",
              "    <tr style=\"text-align: right;\">\n",
              "      <th></th>\n",
              "      <th>region</th>\n",
              "      <th>total_sales</th>\n",
              "    </tr>\n",
              "  </thead>\n",
              "  <tbody>\n",
              "    <tr>\n",
              "      <th>0</th>\n",
              "      <td>West</td>\n",
              "      <td>4.905329e+06</td>\n",
              "    </tr>\n",
              "    <tr>\n",
              "      <th>1</th>\n",
              "      <td>East</td>\n",
              "      <td>4.164299e+06</td>\n",
              "    </tr>\n",
              "    <tr>\n",
              "      <th>2</th>\n",
              "      <td>Central</td>\n",
              "      <td>3.755466e+06</td>\n",
              "    </tr>\n",
              "    <tr>\n",
              "      <th>3</th>\n",
              "      <td>South</td>\n",
              "      <td>2.706438e+06</td>\n",
              "    </tr>\n",
              "  </tbody>\n",
              "</table>\n",
              "</div>"
            ],
            "text/plain": [
              "    region   total_sales\n",
              "0     West  4.905329e+06\n",
              "1     East  4.164299e+06\n",
              "2  Central  3.755466e+06\n",
              "3    South  2.706438e+06"
            ]
          },
          "execution_count": 23,
          "metadata": {},
          "output_type": "execute_result"
        }
      ],
      "source": [
        "query5 = \"\"\" SELECT\n",
        "    c.region, SUM(od.sales) as total_sales\n",
        "FROM customers as c\n",
        "JOIN orders as o on c.customer_id=o.customer_id\n",
        "JOIN order_details as od on o.order_id = od.order_id\n",
        "GROUP BY c.region\n",
        "ORDER BY total_sales DESC  \"\"\"\n",
        "result5 = pd.read_sql(query5, conn)\n",
        "result5"
      ]
    },
    {
      "cell_type": "markdown",
      "id": "9054ab03",
      "metadata": {},
      "source": [
        "### How many orders were shipped late (where Ship Date > Order Date + 3 days)?"
      ]
    },
    {
      "cell_type": "code",
      "execution_count": 24,
      "id": "88e6be99",
      "metadata": {},
      "outputs": [
        {
          "data": {
            "text/html": [
              "<div>\n",
              "<style scoped>\n",
              "    .dataframe tbody tr th:only-of-type {\n",
              "        vertical-align: middle;\n",
              "    }\n",
              "\n",
              "    .dataframe tbody tr th {\n",
              "        vertical-align: top;\n",
              "    }\n",
              "\n",
              "    .dataframe thead th {\n",
              "        text-align: right;\n",
              "    }\n",
              "</style>\n",
              "<table border=\"1\" class=\"dataframe\">\n",
              "  <thead>\n",
              "    <tr style=\"text-align: right;\">\n",
              "      <th></th>\n",
              "      <th>order_id</th>\n",
              "      <th>order_date</th>\n",
              "      <th>ship_date</th>\n",
              "      <th>ship_mode</th>\n",
              "      <th>customer_id</th>\n",
              "    </tr>\n",
              "  </thead>\n",
              "  <tbody>\n",
              "    <tr>\n",
              "      <th>0</th>\n",
              "      <td>CA-2013-138688</td>\n",
              "      <td>2013-06-13 00:00:00</td>\n",
              "      <td>2013-06-17 00:00:00</td>\n",
              "      <td>Second Class</td>\n",
              "      <td>DV-13045</td>\n",
              "    </tr>\n",
              "    <tr>\n",
              "      <th>1</th>\n",
              "      <td>US-2012-108966</td>\n",
              "      <td>2012-10-11 00:00:00</td>\n",
              "      <td>2012-10-18 00:00:00</td>\n",
              "      <td>Standard Class</td>\n",
              "      <td>SO-20335</td>\n",
              "    </tr>\n",
              "    <tr>\n",
              "      <th>2</th>\n",
              "      <td>CA-2011-115812</td>\n",
              "      <td>2011-06-09 00:00:00</td>\n",
              "      <td>2011-06-14 00:00:00</td>\n",
              "      <td>Standard Class</td>\n",
              "      <td>BH-11710</td>\n",
              "    </tr>\n",
              "    <tr>\n",
              "      <th>3</th>\n",
              "      <td>CA-2014-114412</td>\n",
              "      <td>2014-04-16 00:00:00</td>\n",
              "      <td>2014-04-21 00:00:00</td>\n",
              "      <td>Standard Class</td>\n",
              "      <td>AA-10480</td>\n",
              "    </tr>\n",
              "    <tr>\n",
              "      <th>4</th>\n",
              "      <td>CA-2013-161389</td>\n",
              "      <td>2013-12-06 00:00:00</td>\n",
              "      <td>2013-12-11 00:00:00</td>\n",
              "      <td>Standard Class</td>\n",
              "      <td>IM-15070</td>\n",
              "    </tr>\n",
              "    <tr>\n",
              "      <th>...</th>\n",
              "      <td>...</td>\n",
              "      <td>...</td>\n",
              "      <td>...</td>\n",
              "      <td>...</td>\n",
              "      <td>...</td>\n",
              "    </tr>\n",
              "    <tr>\n",
              "      <th>3386</th>\n",
              "      <td>CA-2012-100251</td>\n",
              "      <td>2012-05-17 00:00:00</td>\n",
              "      <td>2012-05-23 00:00:00</td>\n",
              "      <td>Standard Class</td>\n",
              "      <td>DV-13465</td>\n",
              "    </tr>\n",
              "    <tr>\n",
              "      <th>3387</th>\n",
              "      <td>CA-2013-125794</td>\n",
              "      <td>2013-09-30 00:00:00</td>\n",
              "      <td>2013-10-04 00:00:00</td>\n",
              "      <td>Standard Class</td>\n",
              "      <td>ML-17410</td>\n",
              "    </tr>\n",
              "    <tr>\n",
              "      <th>3388</th>\n",
              "      <td>CA-2014-163629</td>\n",
              "      <td>2014-11-18 00:00:00</td>\n",
              "      <td>2014-11-22 00:00:00</td>\n",
              "      <td>Standard Class</td>\n",
              "      <td>RA-19885</td>\n",
              "    </tr>\n",
              "    <tr>\n",
              "      <th>3389</th>\n",
              "      <td>CA-2014-121258</td>\n",
              "      <td>2014-02-27 00:00:00</td>\n",
              "      <td>2014-03-04 00:00:00</td>\n",
              "      <td>Standard Class</td>\n",
              "      <td>DB-13060</td>\n",
              "    </tr>\n",
              "    <tr>\n",
              "      <th>3390</th>\n",
              "      <td>CA-2014-119914</td>\n",
              "      <td>2014-05-05 00:00:00</td>\n",
              "      <td>2014-05-10 00:00:00</td>\n",
              "      <td>Second Class</td>\n",
              "      <td>CC-12220</td>\n",
              "    </tr>\n",
              "  </tbody>\n",
              "</table>\n",
              "<p>3391 rows × 5 columns</p>\n",
              "</div>"
            ],
            "text/plain": [
              "            order_id           order_date            ship_date  \\\n",
              "0     CA-2013-138688  2013-06-13 00:00:00  2013-06-17 00:00:00   \n",
              "1     US-2012-108966  2012-10-11 00:00:00  2012-10-18 00:00:00   \n",
              "2     CA-2011-115812  2011-06-09 00:00:00  2011-06-14 00:00:00   \n",
              "3     CA-2014-114412  2014-04-16 00:00:00  2014-04-21 00:00:00   \n",
              "4     CA-2013-161389  2013-12-06 00:00:00  2013-12-11 00:00:00   \n",
              "...              ...                  ...                  ...   \n",
              "3386  CA-2012-100251  2012-05-17 00:00:00  2012-05-23 00:00:00   \n",
              "3387  CA-2013-125794  2013-09-30 00:00:00  2013-10-04 00:00:00   \n",
              "3388  CA-2014-163629  2014-11-18 00:00:00  2014-11-22 00:00:00   \n",
              "3389  CA-2014-121258  2014-02-27 00:00:00  2014-03-04 00:00:00   \n",
              "3390  CA-2014-119914  2014-05-05 00:00:00  2014-05-10 00:00:00   \n",
              "\n",
              "           ship_mode customer_id  \n",
              "0       Second Class    DV-13045  \n",
              "1     Standard Class    SO-20335  \n",
              "2     Standard Class    BH-11710  \n",
              "3     Standard Class    AA-10480  \n",
              "4     Standard Class    IM-15070  \n",
              "...              ...         ...  \n",
              "3386  Standard Class    DV-13465  \n",
              "3387  Standard Class    ML-17410  \n",
              "3388  Standard Class    RA-19885  \n",
              "3389  Standard Class    DB-13060  \n",
              "3390    Second Class    CC-12220  \n",
              "\n",
              "[3391 rows x 5 columns]"
            ]
          },
          "execution_count": 24,
          "metadata": {},
          "output_type": "execute_result"
        }
      ],
      "source": [
        "query6 = \"\"\" SELECT *\n",
        "FROM orders\n",
        "WHERE\n",
        "ship_date > datetime(order_date, '+3 days'); \"\"\"\n",
        "result6 = pd.read_sql(query6, conn)\n",
        "result6"
      ]
    },
    {
      "cell_type": "markdown",
      "id": "303521d0",
      "metadata": {},
      "source": [
        "### Which month or year had the highest total sales?"
      ]
    },
    {
      "cell_type": "code",
      "execution_count": 26,
      "id": "6c2cfa60",
      "metadata": {},
      "outputs": [
        {
          "data": {
            "text/html": [
              "<div>\n",
              "<style scoped>\n",
              "    .dataframe tbody tr th:only-of-type {\n",
              "        vertical-align: middle;\n",
              "    }\n",
              "\n",
              "    .dataframe tbody tr th {\n",
              "        vertical-align: top;\n",
              "    }\n",
              "\n",
              "    .dataframe thead th {\n",
              "        text-align: right;\n",
              "    }\n",
              "</style>\n",
              "<table border=\"1\" class=\"dataframe\">\n",
              "  <thead>\n",
              "    <tr style=\"text-align: right;\">\n",
              "      <th></th>\n",
              "      <th>month</th>\n",
              "      <th>total_sales</th>\n",
              "    </tr>\n",
              "  </thead>\n",
              "  <tbody>\n",
              "    <tr>\n",
              "      <th>0</th>\n",
              "      <td>11</td>\n",
              "      <td>349120.0740</td>\n",
              "    </tr>\n",
              "    <tr>\n",
              "      <th>1</th>\n",
              "      <td>12</td>\n",
              "      <td>332177.1595</td>\n",
              "    </tr>\n",
              "    <tr>\n",
              "      <th>2</th>\n",
              "      <td>09</td>\n",
              "      <td>309770.0997</td>\n",
              "    </tr>\n",
              "    <tr>\n",
              "      <th>3</th>\n",
              "      <td>03</td>\n",
              "      <td>199252.9840</td>\n",
              "    </tr>\n",
              "    <tr>\n",
              "      <th>4</th>\n",
              "      <td>10</td>\n",
              "      <td>197115.2017</td>\n",
              "    </tr>\n",
              "    <tr>\n",
              "      <th>5</th>\n",
              "      <td>08</td>\n",
              "      <td>159589.4510</td>\n",
              "    </tr>\n",
              "    <tr>\n",
              "      <th>6</th>\n",
              "      <td>05</td>\n",
              "      <td>156122.2867</td>\n",
              "    </tr>\n",
              "    <tr>\n",
              "      <th>7</th>\n",
              "      <td>07</td>\n",
              "      <td>149580.8380</td>\n",
              "    </tr>\n",
              "    <tr>\n",
              "      <th>8</th>\n",
              "      <td>06</td>\n",
              "      <td>147082.6113</td>\n",
              "    </tr>\n",
              "    <tr>\n",
              "      <th>9</th>\n",
              "      <td>04</td>\n",
              "      <td>141851.5674</td>\n",
              "    </tr>\n",
              "    <tr>\n",
              "      <th>10</th>\n",
              "      <td>01</td>\n",
              "      <td>95365.9376</td>\n",
              "    </tr>\n",
              "    <tr>\n",
              "      <th>11</th>\n",
              "      <td>02</td>\n",
              "      <td>60172.6494</td>\n",
              "    </tr>\n",
              "  </tbody>\n",
              "</table>\n",
              "</div>"
            ],
            "text/plain": [
              "   month  total_sales\n",
              "0     11  349120.0740\n",
              "1     12  332177.1595\n",
              "2     09  309770.0997\n",
              "3     03  199252.9840\n",
              "4     10  197115.2017\n",
              "5     08  159589.4510\n",
              "6     05  156122.2867\n",
              "7     07  149580.8380\n",
              "8     06  147082.6113\n",
              "9     04  141851.5674\n",
              "10    01   95365.9376\n",
              "11    02   60172.6494"
            ]
          },
          "execution_count": 26,
          "metadata": {},
          "output_type": "execute_result"
        }
      ],
      "source": [
        "query7 = \"\"\" SELECT strftime('%m', o.order_date) as month, SUM(od.sales) as total_sales\n",
        "FROM orders as o\n",
        "JOIN order_details as od on o.order_id = od.order_id\n",
        "GROUP BY month\n",
        "ORDER BY total_sales DESC\"\"\"\n",
        "result7 = pd.read_sql(query7, conn)\n",
        "result7"
      ]
    },
    {
      "cell_type": "markdown",
      "id": "33bbedf4",
      "metadata": {},
      "source": [
        "### What are the most frequently ordered products?"
      ]
    },
    {
      "cell_type": "code",
      "execution_count": 27,
      "id": "6a1f3f4a",
      "metadata": {},
      "outputs": [
        {
          "data": {
            "text/html": [
              "<div>\n",
              "<style scoped>\n",
              "    .dataframe tbody tr th:only-of-type {\n",
              "        vertical-align: middle;\n",
              "    }\n",
              "\n",
              "    .dataframe tbody tr th {\n",
              "        vertical-align: top;\n",
              "    }\n",
              "\n",
              "    .dataframe thead th {\n",
              "        text-align: right;\n",
              "    }\n",
              "</style>\n",
              "<table border=\"1\" class=\"dataframe\">\n",
              "  <thead>\n",
              "    <tr style=\"text-align: right;\">\n",
              "      <th></th>\n",
              "      <th>product_name</th>\n",
              "      <th>total_sold</th>\n",
              "    </tr>\n",
              "  </thead>\n",
              "  <tbody>\n",
              "    <tr>\n",
              "      <th>0</th>\n",
              "      <td>Staples</td>\n",
              "      <td>876</td>\n",
              "    </tr>\n",
              "    <tr>\n",
              "      <th>1</th>\n",
              "      <td>Logitech P710e Mobile Speakerphone</td>\n",
              "      <td>75</td>\n",
              "    </tr>\n",
              "    <tr>\n",
              "      <th>2</th>\n",
              "      <td>Imation 16GB Mini TravelDrive USB 2.0 Flash Drive</td>\n",
              "      <td>75</td>\n",
              "    </tr>\n",
              "    <tr>\n",
              "      <th>3</th>\n",
              "      <td>KI Adjustable-Height Table</td>\n",
              "      <td>74</td>\n",
              "    </tr>\n",
              "    <tr>\n",
              "      <th>4</th>\n",
              "      <td>Storex Dura Pro Binders</td>\n",
              "      <td>71</td>\n",
              "    </tr>\n",
              "    <tr>\n",
              "      <th>5</th>\n",
              "      <td>Avery Non-Stick Binders</td>\n",
              "      <td>71</td>\n",
              "    </tr>\n",
              "    <tr>\n",
              "      <th>6</th>\n",
              "      <td>Xerox 1908</td>\n",
              "      <td>70</td>\n",
              "    </tr>\n",
              "    <tr>\n",
              "      <th>7</th>\n",
              "      <td>Xerox 1881</td>\n",
              "      <td>70</td>\n",
              "    </tr>\n",
              "    <tr>\n",
              "      <th>8</th>\n",
              "      <td>GBC Premium Transparent Covers with Diagonal L...</td>\n",
              "      <td>67</td>\n",
              "    </tr>\n",
              "    <tr>\n",
              "      <th>9</th>\n",
              "      <td>Situations Contoured Folding Chairs, 4/Set</td>\n",
              "      <td>64</td>\n",
              "    </tr>\n",
              "  </tbody>\n",
              "</table>\n",
              "</div>"
            ],
            "text/plain": [
              "                                        product_name  total_sold\n",
              "0                                            Staples         876\n",
              "1                 Logitech P710e Mobile Speakerphone          75\n",
              "2  Imation 16GB Mini TravelDrive USB 2.0 Flash Drive          75\n",
              "3                         KI Adjustable-Height Table          74\n",
              "4                            Storex Dura Pro Binders          71\n",
              "5                            Avery Non-Stick Binders          71\n",
              "6                                         Xerox 1908          70\n",
              "7                                         Xerox 1881          70\n",
              "8  GBC Premium Transparent Covers with Diagonal L...          67\n",
              "9         Situations Contoured Folding Chairs, 4/Set          64"
            ]
          },
          "execution_count": 27,
          "metadata": {},
          "output_type": "execute_result"
        }
      ],
      "source": [
        "query8 = \"\"\" SELECT\n",
        "    p.product_name, SUM(od.quantity) as total_sold\n",
        "FROM products as p\n",
        "JOIN order_details as od ON p.product_id = od.product_id\n",
        "GROUP BY p.product_name\n",
        "ORDER BY total_sold DESC\n",
        "LIMIT 10 \"\"\"\n",
        "result8 = pd.read_sql(query8, conn)\n",
        "result8"
      ]
    },
    {
      "cell_type": "markdown",
      "id": "e0e71242",
      "metadata": {},
      "source": [
        "### Which customers placed more than 5 orders total?"
      ]
    },
    {
      "cell_type": "code",
      "execution_count": 33,
      "id": "75085cb6",
      "metadata": {},
      "outputs": [
        {
          "data": {
            "text/html": [
              "<div>\n",
              "<style scoped>\n",
              "    .dataframe tbody tr th:only-of-type {\n",
              "        vertical-align: middle;\n",
              "    }\n",
              "\n",
              "    .dataframe tbody tr th {\n",
              "        vertical-align: top;\n",
              "    }\n",
              "\n",
              "    .dataframe thead th {\n",
              "        text-align: right;\n",
              "    }\n",
              "</style>\n",
              "<table border=\"1\" class=\"dataframe\">\n",
              "  <thead>\n",
              "    <tr style=\"text-align: right;\">\n",
              "      <th></th>\n",
              "      <th>customer_name</th>\n",
              "      <th>number_of_orders</th>\n",
              "    </tr>\n",
              "  </thead>\n",
              "  <tbody>\n",
              "    <tr>\n",
              "      <th>0</th>\n",
              "      <td>Emily Phan</td>\n",
              "      <td>255</td>\n",
              "    </tr>\n",
              "    <tr>\n",
              "      <th>1</th>\n",
              "      <td>Joel Eaton</td>\n",
              "      <td>169</td>\n",
              "    </tr>\n",
              "    <tr>\n",
              "      <th>2</th>\n",
              "      <td>Zuschuss Carroll</td>\n",
              "      <td>156</td>\n",
              "    </tr>\n",
              "    <tr>\n",
              "      <th>3</th>\n",
              "      <td>Noel Staavos</td>\n",
              "      <td>156</td>\n",
              "    </tr>\n",
              "    <tr>\n",
              "      <th>4</th>\n",
              "      <td>Erin Ashbrook</td>\n",
              "      <td>156</td>\n",
              "    </tr>\n",
              "    <tr>\n",
              "      <th>...</th>\n",
              "      <td>...</td>\n",
              "      <td>...</td>\n",
              "    </tr>\n",
              "    <tr>\n",
              "      <th>742</th>\n",
              "      <td>Barry Weirich</td>\n",
              "      <td>9</td>\n",
              "    </tr>\n",
              "    <tr>\n",
              "      <th>743</th>\n",
              "      <td>Astrea Jones</td>\n",
              "      <td>9</td>\n",
              "    </tr>\n",
              "    <tr>\n",
              "      <th>744</th>\n",
              "      <td>Alyssa Crouse</td>\n",
              "      <td>9</td>\n",
              "    </tr>\n",
              "    <tr>\n",
              "      <th>745</th>\n",
              "      <td>Aaron Bergman</td>\n",
              "      <td>9</td>\n",
              "    </tr>\n",
              "    <tr>\n",
              "      <th>746</th>\n",
              "      <td>Doug Jacobs</td>\n",
              "      <td>6</td>\n",
              "    </tr>\n",
              "  </tbody>\n",
              "</table>\n",
              "<p>747 rows × 2 columns</p>\n",
              "</div>"
            ],
            "text/plain": [
              "        customer_name  number_of_orders\n",
              "0          Emily Phan               255\n",
              "1          Joel Eaton               169\n",
              "2    Zuschuss Carroll               156\n",
              "3        Noel Staavos               156\n",
              "4       Erin Ashbrook               156\n",
              "..                ...               ...\n",
              "742     Barry Weirich                 9\n",
              "743      Astrea Jones                 9\n",
              "744     Alyssa Crouse                 9\n",
              "745     Aaron Bergman                 9\n",
              "746       Doug Jacobs                 6\n",
              "\n",
              "[747 rows x 2 columns]"
            ]
          },
          "execution_count": 33,
          "metadata": {},
          "output_type": "execute_result"
        }
      ],
      "source": [
        "query9 = \"\"\" SELECT\n",
        "    c.customer_name, COUNT (o.order_id) as number_of_orders \n",
        "FROM customers as c\n",
        "JOIN orders as o ON c.customer_id = o.customer_id\n",
        "GROUP BY c.customer_name\n",
        "HAVING COUNT (o.order_id) >= 5\n",
        "ORDER BY number_of_orders DESC\"\"\"\n",
        "result9 = pd.read_sql(query9, conn)\n",
        "result9"
      ]
    },
    {
      "cell_type": "markdown",
      "id": "60e76b8e",
      "metadata": {},
      "source": [
        "### What’s the profit margin (profit ÷ sales) by category or customer type?"
      ]
    },
    {
      "cell_type": "code",
      "execution_count": 35,
      "metadata": {},
      "outputs": [
        {
          "data": {
            "text/html": [
              "<div>\n",
              "<style scoped>\n",
              "    .dataframe tbody tr th:only-of-type {\n",
              "        vertical-align: middle;\n",
              "    }\n",
              "\n",
              "    .dataframe tbody tr th {\n",
              "        vertical-align: top;\n",
              "    }\n",
              "\n",
              "    .dataframe thead th {\n",
              "        text-align: right;\n",
              "    }\n",
              "</style>\n",
              "<table border=\"1\" class=\"dataframe\">\n",
              "  <thead>\n",
              "    <tr style=\"text-align: right;\">\n",
              "      <th></th>\n",
              "      <th>category</th>\n",
              "      <th>profit_margin</th>\n",
              "    </tr>\n",
              "  </thead>\n",
              "  <tbody>\n",
              "    <tr>\n",
              "      <th>0</th>\n",
              "      <td>Office Supplies</td>\n",
              "      <td>0.47</td>\n",
              "    </tr>\n",
              "    <tr>\n",
              "      <th>1</th>\n",
              "      <td>Technology</td>\n",
              "      <td>0.10</td>\n",
              "    </tr>\n",
              "    <tr>\n",
              "      <th>2</th>\n",
              "      <td>Furniture</td>\n",
              "      <td>-0.68</td>\n",
              "    </tr>\n",
              "  </tbody>\n",
              "</table>\n",
              "</div>"
            ],
            "text/plain": [
              "          category  profit_margin\n",
              "0  Office Supplies           0.47\n",
              "1       Technology           0.10\n",
              "2        Furniture          -0.68"
            ]
          },
          "execution_count": 35,
          "metadata": {},
          "output_type": "execute_result"
        }
      ],
      "source": [
        "query10 = \"\"\" SELECT\n",
        "    p.category, ((od.profit)/(od.sales)) as profit_margin\n",
        "FROM products as p\n",
        "JOIN order_details as od on p.product_id = od.product_id\n",
        "GROUP BY p.category\n",
        "ORDER BY profit_margin DESC \"\"\"\n",
        "result10 = pd.read_sql(query10, conn)\n",
        "result10"
      ]
    },
    {
      "cell_type": "markdown",
      "metadata": {},
      "source": [
        "### 5) Visualize it!\n",
        "\n",
        "From your ten results, select at least 4 to utilize in a meaningful visualization. "
      ]
    },
    {
      "cell_type": "code",
      "execution_count": 66,
      "id": "90a32f14",
      "metadata": {},
      "outputs": [
        {
          "data": {
            "image/png": "[encoded data removed]",
            "text/plain": [
              "<Figure size 1000x600 with 1 Axes>"
            ]
          },
          "metadata": {},
          "output_type": "display_data"
        }
      ],
      "source": [
        "# example using result1\n",
        "plt.figure(figsize=(10,6))\n",
        "colors = [\"#a7adaa\", \"#a7adaa\", \"#f74141\" ]\n",
        "sns.barplot(result1, x='customer_category', y='total_sales', palette=colors, hue='customer_category', legend=False)\n",
        "plt.title('Small Offices, Smaller Sales: The Home Office Gap',fontsize=18)\n",
        "plt.xlabel(None)\n",
        "plt.ylabel('Total Sales ($USD)')\n",
        "\n",
        "#for those wondering how to get rid of scientific notation! Set style to plain:\n",
        "plt.ticklabel_format(style='plain', axis='y')\n",
        "\n",
        "#mticker is a great library for helping tick mark formatting, such as adding commas and dollar signs in this case\n",
        "ax = plt.gca()\n",
        "ax.yaxis.set_major_formatter(mticker.FuncFormatter(lambda x, _: f'${x:,.0f}'))\n",
        "\n",
        "#using the seaborn library, despining is way easier!\n",
        "sns.despine()\n",
        "plt.show()\n"
      ]
    },
    {
      "cell_type": "code",
      "execution_count": 67,
      "id": "d0395595",
      "metadata": {},
      "outputs": [
        {
          "data": {
            "image/png": "[encoded data removed]",
            "text/plain": [
              "<Figure size 640x480 with 1 Axes>"
            ]
          },
          "metadata": {},
          "output_type": "display_data"
        }
      ],
      "source": [
        "df = result10.copy().sort_values('profit_margin', ascending=False)\n",
        "\n",
        "fig, ax = plt.subplots()\n",
        "ax.bar(df['category'], df['profit_margin'])\n",
        "ax.set_title('Profit Margin by Category')\n",
        "ax.set_ylabel('Profit margin')\n",
        "ax.yaxis.set_major_formatter(PercentFormatter(1.0))\n",
        "plt.xticks(rotation=0, ha='center')\n",
        "plt.tight_layout()\n",
        "plt.show()"
      ]
    },
    {
      "cell_type": "code",
      "execution_count": 68,
      "id": "57a6e30f",
      "metadata": {},
      "outputs": [
        {
          "data": {
            "text/plain": [
              "<Figure size 640x480 with 0 Axes>"
            ]
          },
          "metadata": {},
          "output_type": "display_data"
        }
      ],
      "source": [
        "plt.savefig('profit_margin_by_category.png')"
      ]
    },
    {
      "cell_type": "code",
      "execution_count": 69,
      "id": "ff61fd84",
      "metadata": {},
      "outputs": [
        {
          "data": {
            "image/png": "[encoded data removed]",
            "text/plain": [
              "<Figure size 800x500 with 1 Axes>"
            ]
          },
          "metadata": {},
          "output_type": "display_data"
        }
      ],
      "source": [
        "plt.figure(figsize=(8, 5))\n",
        "plt.barh(result8['product_name'], result8['total_sold'])\n",
        "plt.xlabel('Units sold')\n",
        "plt.ylabel('Product')\n",
        "plt.title('Top 10 Products by Units Sold')\n",
        "for i, v in enumerate(result8['total_sold']):\n",
        "    plt.text(v, i, f' {v}', va='center')\n",
        "plt.tight_layout()\n",
        "plt.show()\n",
        "\n"
      ]
    },
    {
      "cell_type": "code",
      "execution_count": 70,
      "id": "6a57509b",
      "metadata": {},
      "outputs": [
        {
          "data": {
            "text/plain": [
              "<Figure size 640x480 with 0 Axes>"
            ]
          },
          "metadata": {},
          "output_type": "display_data"
        }
      ],
      "source": [
        "plt.savefig('top_10_products_by_units_sold.png')"
      ]
    },
    {
      "cell_type": "code",
      "execution_count": 71,
      "id": "a074b98e",
      "metadata": {},
      "outputs": [
        {
          "data": {
            "image/png": "[encoded data removed]",
            "text/plain": [
              "<Figure size 600x600 with 1 Axes>"
            ]
          },
          "metadata": {},
          "output_type": "display_data"
        }
      ],
      "source": [
        "month_map = {\n",
        "    '01': 'JAN','02': 'FEB','03': 'MAR','04': 'APR',\n",
        "    '05': 'MAY','06': 'JUN','07': 'JUL','08': 'AUG',\n",
        "    '09': 'SEP','10': 'OCT','11': 'NOV','12': 'DEC'\n",
        "}\n",
        "\n",
        "df = result7.copy()\n",
        "df['month_num'] = df['month'].astype(int)\n",
        "df['month_label'] = df['month'].map(month_map)\n",
        "df = df.sort_values('month_num')\n",
        "\n",
        "plt.figure(figsize=(6, 6))\n",
        "plt.pie(\n",
        "    df['total_sales'],\n",
        "    labels=df['month_label'],\n",
        "    autopct='%.1f%%',\n",
        "    startangle=45,\n",
        "    counterclock=False\n",
        ")\n",
        "plt.title('Sales Percentage by Month')\n",
        "plt.show()\n"
      ]
    },
    {
      "cell_type": "code",
      "execution_count": 72,
      "id": "1a7367a9",
      "metadata": {},
      "outputs": [
        {
          "data": {
            "text/plain": [
              "<Figure size 640x480 with 0 Axes>"
            ]
          },
          "metadata": {},
          "output_type": "display_data"
        }
      ],
      "source": [
        "plt.savefig('sales_percentage_by_month.png')"
      ]
    },
    {
      "cell_type": "code",
      "execution_count": 73,
      "id": "abf5b852",
      "metadata": {},
      "outputs": [
        {
          "data": {
            "image/png": "[encoded data removed]",
            "text/plain": [
              "<Figure size 700x400 with 1 Axes>"
            ]
          },
          "metadata": {},
          "output_type": "display_data"
        }
      ],
      "source": [
        "df = result3.copy().sort_values('total_profit', ascending=True)\n",
        "\n",
        "plt.figure(figsize=(7, 4))\n",
        "plt.barh(df['category'], df['total_profit'])\n",
        "plt.xlabel('Total profit')\n",
        "plt.ylabel('Category')\n",
        "plt.title('Total Profit by Category')\n",
        "plt.tight_layout()\n",
        "plt.show()"
      ]
    },
    {
      "cell_type": "code",
      "execution_count": 74,
      "id": "b2ca39b3",
      "metadata": {},
      "outputs": [
        {
          "data": {
            "text/plain": [
              "<Figure size 640x480 with 0 Axes>"
            ]
          },
          "metadata": {},
          "output_type": "display_data"
        }
      ],
      "source": [
        "plt.savefig('total_profit_by_category.png')"
      ]
    },
    {
      "cell_type": "markdown",
      "id": "d90bddd5",
      "metadata": {},
      "source": [
        "COURSE FEEDBACK:\n",
        "\n",
        "I have genuinely enjoyed this course and the content. There were a few little bugs working through things, but I know that's because it's new and I think that everything we found has been fixed. I really appreciate that there are multiple ways to learn each lesson. For example, a video, then text, then practice exercises. That REALLY helps me retain information. If I can't really wrap my head around the why behind the how, I don't do well just memorizing processes. Having so many resources to learn was incredibly helpful. \n",
        "\n",
        "My only criticism is the division of content among the weeks in modules 1 and 2, especially 2. Having so much to work through in weeks 1 and 2 and not really being able to look ahead and see that it's going to drastically lighten up -- that was stressful. It may be helpful in general to be able to look ahead at the upcomin content. I totally understand that you don't want students to burn through everything at once. I do. However, I think we've all had to balance our time pretty carefully to make up for weeks that we won't be able to devote as much time (like vacations or stressful workweeks). Because the division of hours required to complete a week is uneven and I wasn't super sure what was coming next, it was hard for me to really get a solid plan to stay on track during the weeks I knew I couldn't devote much time. It would've been helpful for me personally to be able to see/work ahead during those weeks so that I wasn't stressed about catching up. Maybe a middle ground could be releasing 1 week ahead? I'm not sure what the happy medium there would be. Also worth mentioning, I'm kind of just a very type A person when it comes to planning, so this could 100% be a \"me\" issue..."
      ]
    }
  ],
  "metadata": {
    "kernelspec": {
      "display_name": "venv",
      "language": "python",
      "name": "python3"
    },
    "language_info": {
      "codemirror_mode": {
        "name": "ipython",
        "version": 3
      },
      "file_extension": ".py",
      "mimetype": "text/x-python",
      "name": "python",
      "nbconvert_exporter": "python",
      "pygments_lexer": "ipython3",
      "version": "3.13.1"
    }
  },
  "nbformat": 4,
  "nbformat_minor": 5
}
